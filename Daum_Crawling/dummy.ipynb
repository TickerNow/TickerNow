{
 "cells": [
  {
   "cell_type": "code",
   "execution_count": 45,
   "id": "f467db09",
   "metadata": {},
   "outputs": [],
   "source": [
    "from selenium import webdriver\n",
    "from selenium.webdriver.common.by import By\n",
    "from selenium.webdriver.common.keys import Keys\n",
    "from selenium.webdriver.support.ui import WebDriverWait\n",
    "from selenium.webdriver.support import expected_conditions as EC\n",
    "import pyperclip\n",
    "import time\n",
    "import requests\n",
    "from bs4 import BeautifulSoup\n",
    "import pandas as pd\n",
    "import function as f\n",
    "import csv"
   ]
  },
  {
   "cell_type": "code",
   "execution_count": 48,
   "id": "a2b7e0a2",
   "metadata": {},
   "outputs": [
    {
     "name": "stdout",
     "output_type": "stream",
     "text": [
      "1 페이지 뉴스 주소 크롤링 완료\n",
      "[INFO] news_data_현대 실적.csv 파일로 저장 완료!\n"
     ]
    }
   ],
   "source": [
    "search = input(\"검색 하세요 : \")\n",
    "\n",
    "url = 'https://www.daum.net/'\n",
    "driver = webdriver.Chrome()\n",
    "driver.get(url)\n",
    "\n",
    "#검색창 로딩 대기 (최대 5초)\n",
    "WebDriverWait(driver, 5).until(\n",
    "    EC.presence_of_element_located((By.XPATH, '//*[@id=\"q\"]'))\n",
    ")\n",
    "\n",
    "#검색 값 복사\n",
    "pyperclip.copy(search)\n",
    "\n",
    "#검색 값 검색창에 붙여넣기\n",
    "driver.find_element(By.XPATH, '//*[@id=\"q\"]').send_keys(Keys.CONTROL + 'v')\n",
    "time.sleep(1)\n",
    "\n",
    "#검색 버튼 클릭릭\n",
    "driver.find_element(By.XPATH, '//*[@id=\"daumSearch\"]/fieldset/div/div/button[3]').click()\n",
    "time.sleep(2)\n",
    "\n",
    "#다음에서 검색을 할 경우 뉴스 항목 위치가 계속 바껴서 찾는 프로세스\n",
    "li_items = driver.find_elements(By.CSS_SELECTOR, 'ul.list_tab > li')\n",
    "\n",
    "for li in li_items:\n",
    "    try:\n",
    "        if '뉴스' in li.text:\n",
    "            li.click()\n",
    "            break\n",
    "    except:\n",
    "        continue\n",
    "\n",
    "time.sleep(2)\n",
    "\n",
    "news_links = f.get_news_links(driver, 1)  # 수집한 링크\n",
    "news_data = f.get_news_contents(news_links)  # 본문 수집\n",
    "# print(news_links)\n",
    "# print(news_data)\n",
    "f.save_to_csv(news_data,f\"news_data_{search}.csv\") #수집한 타이틀, 내용, 제목, 링크를 csv파일로 저장장\n"
   ]
  },
  {
   "cell_type": "markdown",
   "id": "3d29cf2f",
   "metadata": {},
   "source": [
    "<h1> 크롤링 내용 요약 미리 보기"
   ]
  },
  {
   "cell_type": "code",
   "execution_count": null,
   "id": "638ede8a",
   "metadata": {},
   "outputs": [],
   "source": [
    "for item in news_data:\n",
    "    print(f\"제목: {item['title']}\")\n",
    "    print(f\"내용 (앞부분): {item['content'][:100]}...\")\n",
    "    print(\"-\" * 40)\n"
   ]
  },
  {
   "cell_type": "code",
   "execution_count": 46,
   "id": "c63bc1e6",
   "metadata": {},
   "outputs": [
    {
     "data": {
      "text/html": [
       "<div>\n",
       "<style scoped>\n",
       "    .dataframe tbody tr th:only-of-type {\n",
       "        vertical-align: middle;\n",
       "    }\n",
       "\n",
       "    .dataframe tbody tr th {\n",
       "        vertical-align: top;\n",
       "    }\n",
       "\n",
       "    .dataframe thead th {\n",
       "        text-align: right;\n",
       "    }\n",
       "</style>\n",
       "<table border=\"1\" class=\"dataframe\">\n",
       "  <thead>\n",
       "    <tr style=\"text-align: right;\">\n",
       "      <th></th>\n",
       "      <th>title</th>\n",
       "      <th>content</th>\n",
       "      <th>date</th>\n",
       "      <th>url</th>\n",
       "    </tr>\n",
       "  </thead>\n",
       "  <tbody>\n",
       "    <tr>\n",
       "      <th>0</th>\n",
       "      <td>HD현대일렉트릭, 역대급 실적에도 주가는 급락?…증권가 분석 엇갈려</td>\n",
       "      <td>전력기기 회사인 HD현대일렉트릭이 역대급 실적 발표에도 주가가 10% 가까이 하락했...</td>\n",
       "      <td>2025-04-23 10:11:00</td>\n",
       "      <td>http://v.daum.net/v/20250423101103307</td>\n",
       "    </tr>\n",
       "    <tr>\n",
       "      <th>1</th>\n",
       "      <td>'건설기계의 봄' 언제?…부동산 한파에 두산·HD현대, 1Q 실적 적신호</td>\n",
       "      <td>고금리와 글로벌 건설 경기 둔화가 이어지면서 건설기계 업계의 1분기 실적에도 적신...</td>\n",
       "      <td>2025-04-18 06:11:00</td>\n",
       "      <td>http://v.daum.net/v/20250418061101143</td>\n",
       "    </tr>\n",
       "    <tr>\n",
       "      <th>2</th>\n",
       "      <td>석유·화학 불황에 HD현대케미칼 실적 부진 장기화 우려</td>\n",
       "      <td>(지디넷코리아=류은주 기자)HD현대그룹의 조선·해운과 전력기기 사업은 업황 호조로 ...</td>\n",
       "      <td>2025-04-13 09:41:00</td>\n",
       "      <td>http://v.daum.net/v/20250413094137242</td>\n",
       "    </tr>\n",
       "    <tr>\n",
       "      <th>3</th>\n",
       "      <td>KB증권 \"HD현대일렉트릭, 올해 실적 추정치 하향…목표가↓\"</td>\n",
       "      <td>다만 최근 주가 하락으로 밸류에이션(평가가치) 매력이 커진 가운데 향후 트럼프 정...</td>\n",
       "      <td>2025-04-21 09:45:00</td>\n",
       "      <td>http://v.daum.net/v/20250421094506254</td>\n",
       "    </tr>\n",
       "    <tr>\n",
       "      <th>4</th>\n",
       "      <td>현대차·기아, 미국 관세 여파에도 1분기 실적 선방하나</td>\n",
       "      <td>(서울=연합뉴스) 김보경 기자 = 국내 1, 2위 완성차업체인 현대차, 기아가 오...</td>\n",
       "      <td>2025-04-23 06:01:00</td>\n",
       "      <td>http://v.daum.net/v/20250423060104834</td>\n",
       "    </tr>\n",
       "  </tbody>\n",
       "</table>\n",
       "</div>"
      ],
      "text/plain": [
       "                                      title  \\\n",
       "0     HD현대일렉트릭, 역대급 실적에도 주가는 급락?…증권가 분석 엇갈려   \n",
       "1  '건설기계의 봄' 언제?…부동산 한파에 두산·HD현대, 1Q 실적 적신호   \n",
       "2            석유·화학 불황에 HD현대케미칼 실적 부진 장기화 우려   \n",
       "3        KB증권 \"HD현대일렉트릭, 올해 실적 추정치 하향…목표가↓\"   \n",
       "4            현대차·기아, 미국 관세 여파에도 1분기 실적 선방하나   \n",
       "\n",
       "                                             content                date  \\\n",
       "0  전력기기 회사인 HD현대일렉트릭이 역대급 실적 발표에도 주가가 10% 가까이 하락했... 2025-04-23 10:11:00   \n",
       "1   고금리와 글로벌 건설 경기 둔화가 이어지면서 건설기계 업계의 1분기 실적에도 적신... 2025-04-18 06:11:00   \n",
       "2  (지디넷코리아=류은주 기자)HD현대그룹의 조선·해운과 전력기기 사업은 업황 호조로 ... 2025-04-13 09:41:00   \n",
       "3   다만 최근 주가 하락으로 밸류에이션(평가가치) 매력이 커진 가운데 향후 트럼프 정... 2025-04-21 09:45:00   \n",
       "4   (서울=연합뉴스) 김보경 기자 = 국내 1, 2위 완성차업체인 현대차, 기아가 오... 2025-04-23 06:01:00   \n",
       "\n",
       "                                     url  \n",
       "0  http://v.daum.net/v/20250423101103307  \n",
       "1  http://v.daum.net/v/20250418061101143  \n",
       "2  http://v.daum.net/v/20250413094137242  \n",
       "3  http://v.daum.net/v/20250421094506254  \n",
       "4  http://v.daum.net/v/20250423060104834  "
      ]
     },
     "execution_count": 46,
     "metadata": {},
     "output_type": "execute_result"
    }
   ],
   "source": [
    "df = pd.read_csv(filename)\n",
    "df['date'] = pd.to_datetime(df['date'])\n",
    "df.head()"
   ]
  }
 ],
 "metadata": {
  "kernelspec": {
   "display_name": "Python 3",
   "language": "python",
   "name": "python3"
  },
  "language_info": {
   "codemirror_mode": {
    "name": "ipython",
    "version": 3
   },
   "file_extension": ".py",
   "mimetype": "text/x-python",
   "name": "python",
   "nbconvert_exporter": "python",
   "pygments_lexer": "ipython3",
   "version": "3.13.0"
  }
 },
 "nbformat": 4,
 "nbformat_minor": 5
}
