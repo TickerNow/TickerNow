{
 "cells": [
  {
   "cell_type": "code",
   "execution_count": 11,
   "id": "483d1404",
   "metadata": {},
   "outputs": [],
   "source": [
    "from selenium import webdriver\n",
    "from webdriver_manager.chrome import ChromeDriverManager\n",
    "from selenium.webdriver.common.keys import Keys\n",
    "from selenium.webdriver.common.by import By\n",
    "import pandas as pd \n",
    "import time\n",
    "import pyperclip"
   ]
  },
  {
   "cell_type": "code",
   "execution_count": null,
   "id": "dea7b055",
   "metadata": {},
   "outputs": [
    {
     "ename": "NameError",
     "evalue": "name 'webdriver' is not defined",
     "output_type": "error",
     "traceback": [
      "\u001b[1;31m---------------------------------------------------------------------------\u001b[0m",
      "\u001b[1;31mNameError\u001b[0m                                 Traceback (most recent call last)",
      "Cell \u001b[1;32mIn[1], line 2\u001b[0m\n\u001b[0;32m      1\u001b[0m url \u001b[38;5;241m=\u001b[39m \u001b[38;5;124m'\u001b[39m\u001b[38;5;124mhttps://nid.naver.com/nidlogin.login?mode=form&url=https://www.naver.com/\u001b[39m\u001b[38;5;124m'\u001b[39m\n\u001b[1;32m----> 2\u001b[0m driver \u001b[38;5;241m=\u001b[39m webdriver\u001b[38;5;241m.\u001b[39mChrome()\n\u001b[0;32m      3\u001b[0m driver\u001b[38;5;241m.\u001b[39mget(url)\n\u001b[0;32m      5\u001b[0m time\u001b[38;5;241m.\u001b[39msleep(\u001b[38;5;241m1\u001b[39m)\n",
      "\u001b[1;31mNameError\u001b[0m: name 'webdriver' is not defined"
     ]
    }
   ],
   "source": [
    "url = 'https://nid.naver.com/nidlogin.login?mode=form&url=https://www.naver.com/'\n",
    "driver = webdriver.Chrome()\n",
    "driver.get(url)\n",
    "\n",
    "time.sleep(1)\n",
    "\n",
    "loginID = \"\"\n",
    "pyperclip.copy(loginID)\n",
    "\n",
    "driver.find_element(By.XPATH, '//*[@id=\"id\"]').send_keys(Keys.CONTROL + 'v')\n",
    "\n",
    "loginPW = \"\"\n",
    "pyperclip.copy(loginPW)\n",
    "driver.find_element(By.XPATH, '//*[@id=\"pw\"]').send_keys(Keys.CONTROL + 'v')\n",
    "\n",
    "\n",
    "driver.find_element(By.XPATH, '//*[@id=\"log.login\"]').click()\n",
    "\n",
    "time.sleep(5)\n",
    "\n",
    "driver.find_element(By.XPATH, '/html/body/div[1]/div[2]/div/form/fieldset/span[1]/a').click()\n"
   ]
  }
 ],
 "metadata": {
  "kernelspec": {
   "display_name": "base",
   "language": "python",
   "name": "python3"
  },
  "language_info": {
   "codemirror_mode": {
    "name": "ipython",
    "version": 3
   },
   "file_extension": ".py",
   "mimetype": "text/x-python",
   "name": "python",
   "nbconvert_exporter": "python",
   "pygments_lexer": "ipython3",
   "version": "3.11.5"
  }
 },
 "nbformat": 4,
 "nbformat_minor": 5
}
