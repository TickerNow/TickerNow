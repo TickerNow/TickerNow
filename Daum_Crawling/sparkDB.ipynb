{
 "cells": [
  {
   "cell_type": "code",
   "execution_count": 1,
   "id": "576ded6b",
   "metadata": {},
   "outputs": [],
   "source": [
    "from pyspark.sql import SparkSession\n",
    "from pyspark.sql.functions import *\n",
    "import pandas as pd\n",
    "import findspark\n",
    "findspark.init()\n",
    "\n",
    "spark = SparkSession.builder \\\n",
    "    .appName(\"MySQL Export\") \\\n",
    "    .config(\"spark.jars\",\"file:///C:/mysql-connector-j-8.3.0/mysql-connector-j-8.3.0.jar\") \\\n",
    "    .getOrCreate()\n",
    "\n",
    "#읽어올 csv 파일 설정\n",
    "pdf = pd.read_csv('csv_folder/daum_search_data_samsung.csv')\n",
    "# pdf.head()\n"
   ]
  },
  {
   "cell_type": "code",
   "execution_count": 2,
   "id": "6769e0ca",
   "metadata": {},
   "outputs": [],
   "source": [
    "sdf = spark.createDataFrame(pdf)\n",
    "\n",
    "sdf.write.format(\"jdbc\").options(\n",
    "    url=\"jdbc:mysql://localhost:3306/news_project\",  # DB 정보\n",
    "    driver=\"com.mysql.cj.jdbc.Driver\",\n",
    "    dbtable=\"search_information\",  # 저장할 테이블 이름\n",
    "    user=\"root\",\n",
    "    password= 5941\n",
    ").mode(\"append\").save()\n"
   ]
  },
  {
   "cell_type": "code",
   "execution_count": 3,
   "id": "c14e648e",
   "metadata": {},
   "outputs": [],
   "source": [
    "spark.stop()"
   ]
  },
  {
   "cell_type": "markdown",
   "id": "37790a10",
   "metadata": {},
   "source": [
    "<h2> DB 조회"
   ]
  },
  {
   "cell_type": "code",
   "execution_count": 39,
   "id": "18be9094",
   "metadata": {},
   "outputs": [
    {
     "name": "stdout",
     "output_type": "stream",
     "text": [
      "+---+----------------------------------+---------------------------------+----------+--------------------+\n",
      "| id|                             title|                          content|      date|                 url|\n",
      "+---+----------------------------------+---------------------------------+----------+--------------------+\n",
      "|  1| 푸본현대생명, 고객과 함께하는 ...|   푸본현대생명은 오는 16일 광...|2025-05-15|http://v.daum.net...|\n",
      "|  2| 장재훈 현대차 부회장 \"국내투자...| 현대차는 이날 사우디아라비아 ...|2025-05-15|http://v.daum.net...|\n",
      "|  3|     현대차, 올 국내투자 25조 '...| 현대자동차그룹이 올해 국내 투...|2025-05-15|http://v.daum.net...|\n",
      "|  4|   현대로템 레일솔루션 '날개'··...|       현대로템(064350)이 올해...|2025-05-15|http://v.daum.net...|\n",
      "|  5|      HD현대, 조선소에 AI 도입 ...|     [아이뉴스24 최란 기자] HD...|2025-05-15|http://v.daum.net...|\n",
      "|  6| 하나은행, 현대백화점과 '더현대...| [스포츠한국 홍성완 기자] 하나...|2025-05-15|http://v.daum.net...|\n",
      "|  7|  현대차-사우디 국부펀드 합작, ...|       [OSEN=강희수 기자] 현대...|2025-05-15|http://v.daum.net...|\n",
      "|  8| 현대글로비스, 특수화물전시회 '...|   [아이뉴스24 권서아 기자] 현...|2025-05-15|http://v.daum.net...|\n",
      "|  9|  현대차그룹 5번째 금융사 '잰걸...|     오늘(15일) 업계에 따르면 ...|2025-05-15|http://v.daum.net...|\n",
      "| 10| 하나은행, 현대백화점과 '더현대...|  하나은행(행장 이호성)은 현대...|2025-05-15|http://v.daum.net...|\n",
      "| 11|현대자동차 사우디 생산법인 착공...|    현대차는 14일(현지시간) 사...|2025-05-15|http://v.daum.net...|\n",
      "| 12|  현대차, 중동 車허브 사우디서 ...| [이데일리 정병묵 기자] 현대자...|2025-05-15|http://v.daum.net...|\n",
      "| 13|현대글로비스, 브레이크벌크 화물...|   현대글로비스는 13~15일(현지...|2025-05-15|http://v.daum.net...|\n",
      "| 14| 현대글로비스, 세계 최대 중량화...|                              NaN|2025-05-15|http://v.daum.net...|\n",
      "| 15|  리움·코리아나, 근·현대 소장품...|   \"전통 보자기가 단순한 옛 유...|2025-05-15|http://v.daum.net...|\n",
      "| 16|    여자 ACL 준결승 출격 현대제...|   (서울=연합뉴스) 최송아 기자...|2025-05-15|http://v.daum.net...|\n",
      "| 17|  장재훈 현대차 부회장 \"사우디 ...|(지디넷코리아=김재성 기자)현대...|2025-05-15|http://v.daum.net...|\n",
      "| 18|  '사우디 법인' 현대차그룹 장재...|    \"올해만 25조원…미국은 4년 ...|2025-05-15|http://v.daum.net...|\n",
      "| 19| 현대차, 사우디 국부펀드 손잡고...|   (서울=연합뉴스) 김보경 임성...|2025-05-15|http://v.daum.net...|\n",
      "| 20|   \"압구정=현대\"…현대건설, 압구...|   (서울=연합뉴스) 권혜진 기자...|2025-05-12|http://v.daum.net...|\n",
      "+---+----------------------------------+---------------------------------+----------+--------------------+\n",
      "only showing top 20 rows\n",
      "\n"
     ]
    }
   ],
   "source": [
    "query = \"(SELECT * FROM search_information WHERE date > '2025-01-01') AS tmp\" #별칭 필수\n",
    "df = spark.read.format(\"jdbc\").options(\n",
    "    url=\"jdbc:mysql://localhost:3306/news_project\",\n",
    "    driver=\"com.mysql.cj.jdbc.Driver\",\n",
    "    dbtable=query,\n",
    "    user=\"root\",\n",
    "    password=\"5941\"\n",
    ").load()\n",
    "\n",
    "df.show()"
   ]
  }
 ],
 "metadata": {
  "kernelspec": {
   "display_name": "base",
   "language": "python",
   "name": "python3"
  },
  "language_info": {
   "codemirror_mode": {
    "name": "ipython",
    "version": 3
   },
   "file_extension": ".py",
   "mimetype": "text/x-python",
   "name": "python",
   "nbconvert_exporter": "python",
   "pygments_lexer": "ipython3",
   "version": "3.11.5"
  }
 },
 "nbformat": 4,
 "nbformat_minor": 5
}
