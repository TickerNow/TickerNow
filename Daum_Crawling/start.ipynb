{
 "cells": [
  {
   "cell_type": "code",
   "execution_count": 5,
   "id": "f467db09",
   "metadata": {},
   "outputs": [],
   "source": [
    "from selenium import webdriver\n",
    "from selenium.webdriver.common.by import By\n",
    "from selenium.webdriver.common.keys import Keys\n",
    "from selenium.webdriver.support.ui import WebDriverWait\n",
    "from selenium.webdriver.support import expected_conditions as EC\n",
    "import pyperclip\n",
    "import time\n"
   ]
  },
  {
   "cell_type": "code",
   "execution_count": null,
   "id": "a2b7e0a2",
   "metadata": {},
   "outputs": [],
   "source": [
    "search = input(\"검색 하세요 : \")\n",
    "\n",
    "url = 'https://www.daum.net/'\n",
    "driver = webdriver.Chrome()\n",
    "driver.get(url)\n",
    "\n",
    "# 3. 검색창 로딩 대기 (최대 5초)\n",
    "WebDriverWait(driver, 5).until(\n",
    "    EC.presence_of_element_located((By.XPATH, '//*[@id=\"q\"]'))\n",
    ")\n",
    "\n",
    "pyperclip.copy(search)\n",
    "\n",
    "driver.find_element(By.XPATH, '//*[@id=\"q\"]').send_keys(Keys.CONTROL + 'v')\n",
    "time.sleep(1)\n",
    "driver.find_element(By.XPATH, '//*[@id=\"daumSearch\"]/fieldset/div/div/button[3]').click()\n",
    "time.sleep(2)\n",
    "\n",
    "#다음에서 검색을 할 경우 뉴스 항목 위치가 계속 바껴서 찾는 프로세스스\n",
    "li_items = driver.find_elements(By.CSS_SELECTOR, 'ul.list_tab > li')\n",
    "\n",
    "for li in li_items:\n",
    "    try:\n",
    "        if '뉴스' in li.text:\n",
    "            li.click()\n",
    "            break\n",
    "    except:\n",
    "        continue\n"
   ]
  }
 ],
 "metadata": {
  "kernelspec": {
   "display_name": "base",
   "language": "python",
   "name": "python3"
  },
  "language_info": {
   "codemirror_mode": {
    "name": "ipython",
    "version": 3
   },
   "file_extension": ".py",
   "mimetype": "text/x-python",
   "name": "python",
   "nbconvert_exporter": "python",
   "pygments_lexer": "ipython3",
   "version": "3.11.5"
  }
 },
 "nbformat": 4,
 "nbformat_minor": 5
}
